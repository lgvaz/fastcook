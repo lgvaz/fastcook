{
 "cells": [
  {
   "cell_type": "code",
   "execution_count": null,
   "metadata": {},
   "outputs": [],
   "source": [
    "#hide\n",
    "from fastcook.utils import *"
   ]
  },
  {
   "cell_type": "markdown",
   "metadata": {},
   "source": [
    "# Fastcook - Bon appetit!\n",
    "\n",
    "> Fastcook provides fast and delightful recipes for your [fastai](https://github.com/fastai/fastai2) driven workflow. Perfect for the modern era."
   ]
  },
  {
   "cell_type": "markdown",
   "metadata": {},
   "source": [
    "You can explore recipes directly from the [nbs](https://github.com/lgvaz/fastcook/tree/master/nbs) folder or via the [documentation](https://lgvaz.github.io/fastcook//)."
   ]
  },
  {
   "cell_type": "code",
   "execution_count": null,
   "metadata": {},
   "outputs": [],
   "source": []
  }
 ],
 "metadata": {
  "kernelspec": {
   "display_name": "Python 3",
   "language": "python",
   "name": "python3"
  }
 },
 "nbformat": 4,
 "nbformat_minor": 2
}
