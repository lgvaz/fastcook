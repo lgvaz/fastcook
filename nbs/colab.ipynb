{
 "cells": [
  {
   "cell_type": "markdown",
   "metadata": {},
   "source": [
    "<a href=\"https://colab.research.google.com/github/lgvaz/fastcook/blob/master/colab.ipynb\" target=\"_parent\"><img src=\"https://colab.research.google.com/assets/colab-badge.svg\" alt=\"Open In Colab\"/></a>"
   ]
  },
  {
   "cell_type": "markdown",
   "metadata": {},
   "source": [
    "## Install required dependencies"
   ]
  },
  {
   "cell_type": "markdown",
   "metadata": {},
   "source": [
    "For a stable version:"
   ]
  },
  {
   "cell_type": "code",
   "execution_count": null,
   "metadata": {},
   "outputs": [
    {
     "name": "stdout",
     "output_type": "stream",
     "text": [
      "\u001b[?25l\r",
      "\u001b[K     |█▉                              | 10kB 20.4MB/s eta 0:00:01\r",
      "\u001b[K     |███▋                            | 20kB 1.8MB/s eta 0:00:01\r",
      "\u001b[K     |█████▌                          | 30kB 2.6MB/s eta 0:00:01\r",
      "\u001b[K     |███████▎                        | 40kB 1.7MB/s eta 0:00:01\r",
      "\u001b[K     |█████████▏                      | 51kB 2.1MB/s eta 0:00:01\r",
      "\u001b[K     |███████████                     | 61kB 2.5MB/s eta 0:00:01\r",
      "\u001b[K     |████████████▉                   | 71kB 2.9MB/s eta 0:00:01\r",
      "\u001b[K     |██████████████▋                 | 81kB 3.3MB/s eta 0:00:01\r",
      "\u001b[K     |████████████████▍               | 92kB 3.7MB/s eta 0:00:01\r",
      "\u001b[K     |██████████████████▎             | 102kB 2.8MB/s eta 0:00:01\r",
      "\u001b[K     |████████████████████            | 112kB 2.8MB/s eta 0:00:01\r",
      "\u001b[K     |██████████████████████          | 122kB 2.8MB/s eta 0:00:01\r",
      "\u001b[K     |███████████████████████▊        | 133kB 2.8MB/s eta 0:00:01\r",
      "\u001b[K     |█████████████████████████▋      | 143kB 2.8MB/s eta 0:00:01\r",
      "\u001b[K     |███████████████████████████▍    | 153kB 2.8MB/s eta 0:00:01\r",
      "\u001b[K     |█████████████████████████████▎  | 163kB 2.8MB/s eta 0:00:01\r",
      "\u001b[K     |███████████████████████████████ | 174kB 2.8MB/s eta 0:00:01\r",
      "\u001b[K     |████████████████████████████████| 184kB 2.8MB/s \n",
      "\u001b[?25h"
     ]
    }
   ],
   "source": [
    "!pip install -q fastai2"
   ]
  },
  {
   "cell_type": "markdown",
   "metadata": {},
   "source": [
    "For a bleeding edge install:"
   ]
  },
  {
   "cell_type": "code",
   "execution_count": null,
   "metadata": {},
   "outputs": [],
   "source": [
    "!pip install -q git+git://github.com/fastai/fastcore.git\n",
    "!pip install -q git+git://github.com/fastai/fastai2.git"
   ]
  },
  {
   "cell_type": "markdown",
   "metadata": {},
   "source": [
    "## Required imports"
   ]
  },
  {
   "cell_type": "code",
   "execution_count": null,
   "metadata": {},
   "outputs": [],
   "source": [
    "from fastai2.basics import *"
   ]
  },
  {
   "cell_type": "markdown",
   "metadata": {},
   "source": [
    "## Connect to drive\n",
    "Connects to your google drive and mounts it as a local folder.  \n",
    "The mounted folder supports any operations that a local folder supports.  "
   ]
  },
  {
   "cell_type": "code",
   "execution_count": null,
   "metadata": {},
   "outputs": [
    {
     "name": "stdout",
     "output_type": "stream",
     "text": [
      "Mounted at /content/gdrive\n"
     ]
    }
   ],
   "source": [
    "from google.colab import drive\n",
    "drive.mount('/content/gdrive', force_remount=True)\n",
    "root_dir = Path('/content/gdrive/My Drive/')"
   ]
  },
  {
   "cell_type": "markdown",
   "metadata": {},
   "source": [
    "If you are constantly switching between colab and your local machine, you can instead use the following:"
   ]
  },
  {
   "cell_type": "code",
   "execution_count": null,
   "metadata": {},
   "outputs": [
    {
     "name": "stdout",
     "output_type": "stream",
     "text": [
      "Mounted at /content/gdrive\n"
     ]
    }
   ],
   "source": [
    "try:\n",
    "  from google.colab import drive\n",
    "  drive.mount('/content/gdrive', force_remount=True)\n",
    "  root_dir = Path('/content/gdrive/My Drive/')\n",
    "except ImportError:\n",
    "  root_dir = Path('.')"
   ]
  },
  {
   "cell_type": "markdown",
   "metadata": {},
   "source": [
    "## Prevent colab from disconnecting\n",
    "Keep colab connected by repeatedly clicking on connect button.  \n",
    "Copy and paste the snippet on your browser console (`ctrl+shift+i` for Windows/Linux, `command+option+i` for MacOS)"
   ]
  },
  {
   "cell_type": "markdown",
   "metadata": {},
   "source": [
    "```javascript\n",
    "function ClickConnect(){\n",
    "    console.log(\"Clicked on connect button\"); \n",
    "    document.querySelector(\"colab-connect-button\").click()\n",
    "}\n",
    "setInterval(ClickConnect,60000)\n",
    "```"
   ]
  },
  {
   "cell_type": "markdown",
   "metadata": {},
   "source": [
    "## Upload files\n",
    "Colab UI can be buggy, use this for uploading files."
   ]
  },
  {
   "cell_type": "code",
   "execution_count": null,
   "metadata": {},
   "outputs": [],
   "source": [
    "from google.colab import files\n",
    "files.upload()"
   ]
  },
  {
   "cell_type": "markdown",
   "metadata": {},
   "source": [
    "## Download stuff"
   ]
  },
  {
   "cell_type": "markdown",
   "metadata": {},
   "source": [
    "If you have a direct link to the download, you can generally use `wget` to download it."
   ]
  },
  {
   "cell_type": "code",
   "execution_count": null,
   "metadata": {},
   "outputs": [],
   "source": [
    "!wget http://images.cocodataset.org/zips/unlabeled2017.zip -P data"
   ]
  },
  {
   "cell_type": "markdown",
   "metadata": {},
   "source": [
    "## Download a dataset"
   ]
  },
  {
   "cell_type": "markdown",
   "metadata": {},
   "source": [
    "Putting all the above"
   ]
  },
  {
   "cell_type": "code",
   "execution_count": null,
   "metadata": {},
   "outputs": [],
   "source": [
    "!mkdir data\n",
    "!wget http://images.cocodataset.org/zips/unlabeled2017.zip -P data\n",
    "!cd data && unzip -q unlabeled2017.zip > null"
   ]
  },
  {
   "cell_type": "markdown",
   "metadata": {},
   "source": [
    "For"
   ]
  },
  {
   "cell_type": "code",
   "execution_count": null,
   "metadata": {},
   "outputs": [],
   "source": [
    "!gdown"
   ]
  }
 ],
 "metadata": {
  "kernelspec": {
   "display_name": "Python 3",
   "language": "python",
   "name": "python3"
  }
 },
 "nbformat": 4,
 "nbformat_minor": 1
}
